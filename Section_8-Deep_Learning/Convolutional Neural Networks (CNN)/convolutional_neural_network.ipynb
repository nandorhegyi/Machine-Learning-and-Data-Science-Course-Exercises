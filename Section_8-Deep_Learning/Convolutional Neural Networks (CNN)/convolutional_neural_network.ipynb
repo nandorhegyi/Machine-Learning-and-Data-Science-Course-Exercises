{
 "cells": [
  {
   "cell_type": "markdown",
   "metadata": {
    "id": "3DR-eO17geWu"
   },
   "source": [
    "# Convolutional Neural Network"
   ]
  },
  {
   "cell_type": "markdown",
   "metadata": {
    "id": "EMefrVPCg-60"
   },
   "source": [
    "### Importing the libraries"
   ]
  },
  {
   "cell_type": "code",
   "execution_count": 7,
   "metadata": {
    "executionInfo": {
     "elapsed": 598,
     "status": "ok",
     "timestamp": 1606559336259,
     "user": {
      "displayName": "Nándor Hegyi",
      "photoUrl": "",
      "userId": "02928400980128526015"
     },
     "user_tz": 0
    },
    "id": "9jg_45vfYwCJ"
   },
   "outputs": [],
   "source": [
    "import tensorflow as tf\n",
    "from keras.preprocessing.image import ImageDataGenerator"
   ]
  },
  {
   "cell_type": "code",
   "execution_count": 8,
   "metadata": {
    "colab": {
     "base_uri": "https://localhost:8080/",
     "height": 35
    },
    "executionInfo": {
     "elapsed": 666,
     "status": "ok",
     "timestamp": 1606559338311,
     "user": {
      "displayName": "Nándor Hegyi",
      "photoUrl": "",
      "userId": "02928400980128526015"
     },
     "user_tz": 0
    },
    "id": "XRCLZhOPZdpg",
    "outputId": "ba66afbb-cb4c-46fc-9673-a0a2790fba18"
   },
   "outputs": [
    {
     "data": {
      "text/plain": [
       "'2.3.1'"
      ]
     },
     "execution_count": 8,
     "metadata": {},
     "output_type": "execute_result"
    }
   ],
   "source": [
    "tf.__version__"
   ]
  },
  {
   "cell_type": "markdown",
   "metadata": {
    "id": "oxQxCBWyoGPE"
   },
   "source": [
    "## Part 1 - Data Preprocessing"
   ]
  },
  {
   "cell_type": "markdown",
   "metadata": {
    "id": "MvE-heJNo3GG"
   },
   "source": [
    "### Preprocessing the Training set"
   ]
  },
  {
   "cell_type": "code",
   "execution_count": 9,
   "metadata": {
    "id": "rp3f9zwOcDJD"
   },
   "outputs": [
    {
     "name": "stdout",
     "output_type": "stream",
     "text": [
      "Found 8000 images belonging to 2 classes.\n"
     ]
    }
   ],
   "source": [
    "train_datagen = ImageDataGenerator(\n",
    "        rescale=1./255,\n",
    "        shear_range=0.2,\n",
    "        zoom_range=0.2,\n",
    "        horizontal_flip=True)\n",
    "training_set = train_datagen.flow_from_directory(\n",
    "        'dataset/training_set',\n",
    "        target_size=(64, 64),\n",
    "        batch_size=32,\n",
    "        class_mode='binary')"
   ]
  },
  {
   "cell_type": "markdown",
   "metadata": {
    "id": "mrCMmGw9pHys"
   },
   "source": [
    "### Preprocessing the Test set"
   ]
  },
  {
   "cell_type": "code",
   "execution_count": 10,
   "metadata": {
    "id": "GyHOltqve7eD"
   },
   "outputs": [
    {
     "name": "stdout",
     "output_type": "stream",
     "text": [
      "Found 2000 images belonging to 2 classes.\n"
     ]
    }
   ],
   "source": [
    "test_datagen = ImageDataGenerator(rescale=1./255)\n",
    "test_set = test_datagen.flow_from_directory(\n",
    "        'dataset/test_set',\n",
    "        target_size=(64, 64),\n",
    "        batch_size=32,\n",
    "        class_mode='binary')"
   ]
  },
  {
   "cell_type": "markdown",
   "metadata": {
    "id": "af8O4l90gk7B"
   },
   "source": [
    "## Part 2 - Building the CNN"
   ]
  },
  {
   "cell_type": "markdown",
   "metadata": {
    "id": "ces1gXY2lmoX"
   },
   "source": [
    "### Initialising the CNN"
   ]
  },
  {
   "cell_type": "code",
   "execution_count": 11,
   "metadata": {
    "id": "6emMVd8TgSnl"
   },
   "outputs": [],
   "source": [
    "cnn=tf.keras.models.Sequential()"
   ]
  },
  {
   "cell_type": "markdown",
   "metadata": {
    "id": "u5YJj_XMl5LF"
   },
   "source": [
    "### Step 1 - Convolution"
   ]
  },
  {
   "cell_type": "code",
   "execution_count": 12,
   "metadata": {
    "id": "KcI68SLqgcYG"
   },
   "outputs": [],
   "source": [
    "cnn.add(tf.keras.layers.Conv2D(filters=32,kernel_size=3, activation='relu', input_shape=[64,64,3]))"
   ]
  },
  {
   "cell_type": "markdown",
   "metadata": {
    "id": "tf87FpvxmNOJ"
   },
   "source": [
    "### Step 2 - Pooling"
   ]
  },
  {
   "cell_type": "code",
   "execution_count": 13,
   "metadata": {
    "id": "uqg-hT6ViJzB"
   },
   "outputs": [],
   "source": [
    "cnn.add(tf.keras.layers.MaxPool2D(pool_size=2, strides=2))"
   ]
  },
  {
   "cell_type": "markdown",
   "metadata": {
    "id": "xaTOgD8rm4mU"
   },
   "source": [
    "### Adding a second convolutional layer"
   ]
  },
  {
   "cell_type": "code",
   "execution_count": 14,
   "metadata": {
    "id": "vG2EdQe4jVGW"
   },
   "outputs": [],
   "source": [
    "cnn.add(tf.keras.layers.Conv2D(filters=32,kernel_size=3, activation='relu' ))\n",
    "cnn.add(tf.keras.layers.MaxPool2D(pool_size=2, strides=2))"
   ]
  },
  {
   "cell_type": "markdown",
   "metadata": {
    "id": "tmiEuvTunKfk"
   },
   "source": [
    "### Step 3 - Flattening"
   ]
  },
  {
   "cell_type": "code",
   "execution_count": 15,
   "metadata": {
    "id": "sQGOiTQmj5kI"
   },
   "outputs": [],
   "source": [
    "cnn.add(tf.keras.layers.Flatten())"
   ]
  },
  {
   "cell_type": "markdown",
   "metadata": {
    "id": "dAoSECOm203v"
   },
   "source": [
    "### Step 4 - Full Connection"
   ]
  },
  {
   "cell_type": "code",
   "execution_count": 16,
   "metadata": {
    "id": "qQmttSufkQOs"
   },
   "outputs": [],
   "source": [
    "cnn.add(tf.keras.layers.Dense(units=128, activation='relu'))"
   ]
  },
  {
   "cell_type": "markdown",
   "metadata": {
    "id": "yTldFvbX28Na"
   },
   "source": [
    "### Step 5 - Output Layer"
   ]
  },
  {
   "cell_type": "code",
   "execution_count": 17,
   "metadata": {
    "id": "jGziyJyBkmUF"
   },
   "outputs": [],
   "source": [
    "cnn.add(tf.keras.layers.Dense(units=1, activation='sigmoid'))"
   ]
  },
  {
   "cell_type": "markdown",
   "metadata": {
    "id": "D6XkI90snSDl"
   },
   "source": [
    "## Part 3 - Training the CNN"
   ]
  },
  {
   "cell_type": "markdown",
   "metadata": {
    "id": "vfrFQACEnc6i"
   },
   "source": [
    "### Compiling the CNN"
   ]
  },
  {
   "cell_type": "code",
   "execution_count": 18,
   "metadata": {
    "id": "MlnCu9XAmYfi"
   },
   "outputs": [],
   "source": [
    "cnn.compile(optimizer='adam', loss='binary_crossentropy', metrics=['accuracy'])"
   ]
  },
  {
   "cell_type": "markdown",
   "metadata": {
    "id": "ehS-v3MIpX2h"
   },
   "source": [
    "### Training the CNN on the Training set and evaluating it on the Test set"
   ]
  },
  {
   "cell_type": "code",
   "execution_count": 19,
   "metadata": {
    "id": "x6RyNsSnmZsa"
   },
   "outputs": [
    {
     "name": "stdout",
     "output_type": "stream",
     "text": [
      "Epoch 1/25\n",
      "250/250 [==============================] - 52s 209ms/step - loss: 0.6847 - accuracy: 0.5638 - val_loss: 0.6388 - val_accuracy: 0.6420\n",
      "Epoch 2/25\n",
      "250/250 [==============================] - 52s 209ms/step - loss: 0.6242 - accuracy: 0.6529 - val_loss: 0.5766 - val_accuracy: 0.7125\n",
      "Epoch 3/25\n",
      "250/250 [==============================] - 48s 191ms/step - loss: 0.5825 - accuracy: 0.6920 - val_loss: 0.6439 - val_accuracy: 0.6520\n",
      "Epoch 4/25\n",
      "250/250 [==============================] - 45s 181ms/step - loss: 0.5415 - accuracy: 0.7294 - val_loss: 0.5254 - val_accuracy: 0.7365\n",
      "Epoch 5/25\n",
      "250/250 [==============================] - 46s 186ms/step - loss: 0.5109 - accuracy: 0.7451 - val_loss: 0.5114 - val_accuracy: 0.7515\n",
      "Epoch 6/25\n",
      "250/250 [==============================] - 39s 157ms/step - loss: 0.4952 - accuracy: 0.7570 - val_loss: 0.5159 - val_accuracy: 0.7545\n",
      "Epoch 7/25\n",
      "250/250 [==============================] - 39s 155ms/step - loss: 0.4742 - accuracy: 0.7726 - val_loss: 0.5029 - val_accuracy: 0.7505\n",
      "Epoch 8/25\n",
      "250/250 [==============================] - 39s 156ms/step - loss: 0.4558 - accuracy: 0.7871 - val_loss: 0.4725 - val_accuracy: 0.7840\n",
      "Epoch 9/25\n",
      "250/250 [==============================] - 40s 159ms/step - loss: 0.4354 - accuracy: 0.7946 - val_loss: 0.4737 - val_accuracy: 0.7690\n",
      "Epoch 10/25\n",
      "250/250 [==============================] - 43s 173ms/step - loss: 0.4216 - accuracy: 0.8105 - val_loss: 0.4753 - val_accuracy: 0.7805\n",
      "Epoch 11/25\n",
      "250/250 [==============================] - 45s 180ms/step - loss: 0.4116 - accuracy: 0.8086 - val_loss: 0.4727 - val_accuracy: 0.7945\n",
      "Epoch 12/25\n",
      "250/250 [==============================] - 47s 189ms/step - loss: 0.3934 - accuracy: 0.8199 - val_loss: 0.4611 - val_accuracy: 0.8015\n",
      "Epoch 13/25\n",
      "250/250 [==============================] - 51s 202ms/step - loss: 0.3797 - accuracy: 0.8265 - val_loss: 0.4774 - val_accuracy: 0.7890\n",
      "Epoch 14/25\n",
      "250/250 [==============================] - 44s 175ms/step - loss: 0.3705 - accuracy: 0.8320 - val_loss: 0.4686 - val_accuracy: 0.7955\n",
      "Epoch 15/25\n",
      "250/250 [==============================] - 51s 203ms/step - loss: 0.3606 - accuracy: 0.8336 - val_loss: 0.4901 - val_accuracy: 0.7880\n",
      "Epoch 16/25\n",
      "250/250 [==============================] - 45s 180ms/step - loss: 0.3513 - accuracy: 0.8411 - val_loss: 0.4599 - val_accuracy: 0.8045\n",
      "Epoch 17/25\n",
      "250/250 [==============================] - 48s 193ms/step - loss: 0.3341 - accuracy: 0.8566 - val_loss: 0.4963 - val_accuracy: 0.7930\n",
      "Epoch 18/25\n",
      "250/250 [==============================] - 48s 191ms/step - loss: 0.3269 - accuracy: 0.8559 - val_loss: 0.4909 - val_accuracy: 0.7880\n",
      "Epoch 19/25\n",
      "250/250 [==============================] - 43s 173ms/step - loss: 0.3104 - accuracy: 0.8666 - val_loss: 0.5025 - val_accuracy: 0.7975\n",
      "Epoch 20/25\n",
      "250/250 [==============================] - 41s 165ms/step - loss: 0.2984 - accuracy: 0.8724 - val_loss: 0.4954 - val_accuracy: 0.7955\n",
      "Epoch 21/25\n",
      "250/250 [==============================] - 62s 246ms/step - loss: 0.2935 - accuracy: 0.8761 - val_loss: 0.5117 - val_accuracy: 0.7930\n",
      "Epoch 22/25\n",
      "250/250 [==============================] - 50s 201ms/step - loss: 0.2859 - accuracy: 0.8795 - val_loss: 0.5356 - val_accuracy: 0.7790\n",
      "Epoch 23/25\n",
      "250/250 [==============================] - 45s 178ms/step - loss: 0.2634 - accuracy: 0.8903 - val_loss: 0.5145 - val_accuracy: 0.7960\n",
      "Epoch 24/25\n",
      "250/250 [==============================] - 49s 196ms/step - loss: 0.2571 - accuracy: 0.8929 - val_loss: 0.5242 - val_accuracy: 0.7995\n",
      "Epoch 25/25\n",
      "250/250 [==============================] - 43s 174ms/step - loss: 0.2560 - accuracy: 0.8917 - val_loss: 0.5426 - val_accuracy: 0.8030\n"
     ]
    },
    {
     "data": {
      "text/plain": [
       "<tensorflow.python.keras.callbacks.History at 0x27a0f24c820>"
      ]
     },
     "execution_count": 19,
     "metadata": {},
     "output_type": "execute_result"
    }
   ],
   "source": [
    "cnn.fit(x=training_set, validation_data=test_set, epochs=25)"
   ]
  },
  {
   "cell_type": "markdown",
   "metadata": {
    "id": "U3PZasO0006Z"
   },
   "source": [
    "## Part 4 - Making a single prediction"
   ]
  },
  {
   "cell_type": "code",
   "execution_count": 20,
   "metadata": {
    "id": "hUDCoMgYoOXT"
   },
   "outputs": [],
   "source": [
    "import numpy as np\n",
    "from keras.preprocessing import image\n",
    "test_image=image.load_img('dataset/single_prediction/cat_or_dog_1.jpg', target_size=(64,64))\n",
    "test_image= image.img_to_array(test_image)\n",
    "test_image=np.expand_dims(test_image, axis=0)\n",
    "result= cnn.predict(test_image)\n",
    "training_set.class_indices\n",
    "if result[0][0]==1:\n",
    "  prediction='dog'\n",
    "else:\n",
    "  prediction='cat'"
   ]
  },
  {
   "cell_type": "code",
   "execution_count": 21,
   "metadata": {
    "id": "CLJN-FHJspF5"
   },
   "outputs": [
    {
     "name": "stdout",
     "output_type": "stream",
     "text": [
      "dog\n"
     ]
    }
   ],
   "source": [
    "print(prediction)"
   ]
  }
 ],
 "metadata": {
  "colab": {
   "collapsed_sections": [],
   "name": "Copy of convolutional_neural_network.ipynb",
   "provenance": [
    {
     "file_id": "1Y-a4g98w93GHswXLRLoiogvMYNPgzPE9",
     "timestamp": 1606558446648
    }
   ],
   "toc_visible": true
  },
  "kernelspec": {
   "display_name": "Python 3",
   "language": "python",
   "name": "python3"
  },
  "language_info": {
   "codemirror_mode": {
    "name": "ipython",
    "version": 3
   },
   "file_extension": ".py",
   "mimetype": "text/x-python",
   "name": "python",
   "nbconvert_exporter": "python",
   "pygments_lexer": "ipython3",
   "version": "3.8.3"
  }
 },
 "nbformat": 4,
 "nbformat_minor": 1
}
