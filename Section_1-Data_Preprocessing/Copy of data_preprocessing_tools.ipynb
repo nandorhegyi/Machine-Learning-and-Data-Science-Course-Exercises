{
 "cells": [
  {
   "cell_type": "markdown",
   "metadata": {
    "id": "37puETfgRzzg"
   },
   "source": [
    "# Data Preprocessing Tools"
   ]
  },
  {
   "cell_type": "markdown",
   "metadata": {
    "id": "EoRP98MpR-qj"
   },
   "source": [
    "## Importing the libraries"
   ]
  },
  {
   "cell_type": "code",
   "execution_count": 1,
   "metadata": {
    "executionInfo": {
     "elapsed": 762,
     "status": "ok",
     "timestamp": 1614162050997,
     "user": {
      "displayName": "Nándor Hegyi",
      "photoUrl": "",
      "userId": "02928400980128526015"
     },
     "user_tz": 0
    },
    "id": "kkPg7lfD1oxW"
   },
   "outputs": [],
   "source": [
    "import numpy as np\n",
    "import matplotlib.pyplot as plt\n",
    "import pandas as pd"
   ]
  },
  {
   "cell_type": "markdown",
   "metadata": {
    "id": "RopL7tUZSQkT"
   },
   "source": [
    "## Importing the dataset"
   ]
  },
  {
   "cell_type": "code",
   "execution_count": 2,
   "metadata": {
    "executionInfo": {
     "elapsed": 1071,
     "status": "ok",
     "timestamp": 1614162051310,
     "user": {
      "displayName": "Nándor Hegyi",
      "photoUrl": "",
      "userId": "02928400980128526015"
     },
     "user_tz": 0
    },
    "id": "As97UQWlyZgF"
   },
   "outputs": [],
   "source": [
    "dataset = pd.read_csv('Data.csv')\n",
    "x = dataset.iloc[:,:-1].values\n",
    "y = dataset.iloc[:, -1].values"
   ]
  },
  {
   "cell_type": "code",
   "execution_count": 3,
   "metadata": {
    "colab": {
     "base_uri": "https://localhost:8080/"
    },
    "executionInfo": {
     "elapsed": 1062,
     "status": "ok",
     "timestamp": 1614162051310,
     "user": {
      "displayName": "Nándor Hegyi",
      "photoUrl": "",
      "userId": "02928400980128526015"
     },
     "user_tz": 0
    },
    "id": "PwDKUm0a3qo6",
    "outputId": "7fc43ee9-9d5b-4ae8-c386-386d23e35ed3"
   },
   "outputs": [
    {
     "name": "stdout",
     "output_type": "stream",
     "text": [
      "[['France' 44.0 72000.0]\n",
      " ['Spain' 27.0 48000.0]\n",
      " ['Germany' 30.0 54000.0]\n",
      " ['Spain' 38.0 61000.0]\n",
      " ['Germany' 40.0 nan]\n",
      " ['France' 35.0 58000.0]\n",
      " ['Spain' nan 52000.0]\n",
      " ['France' 48.0 79000.0]\n",
      " ['Germany' 50.0 83000.0]\n",
      " ['France' 37.0 67000.0]]\n"
     ]
    }
   ],
   "source": [
    "print(x)"
   ]
  },
  {
   "cell_type": "code",
   "execution_count": 4,
   "metadata": {
    "colab": {
     "base_uri": "https://localhost:8080/"
    },
    "executionInfo": {
     "elapsed": 1058,
     "status": "ok",
     "timestamp": 1614162051311,
     "user": {
      "displayName": "Nándor Hegyi",
      "photoUrl": "",
      "userId": "02928400980128526015"
     },
     "user_tz": 0
    },
    "id": "tlyQt3tU3uT-",
    "outputId": "48987264-7d51-4b5e-8d26-c0468df2e959"
   },
   "outputs": [
    {
     "name": "stdout",
     "output_type": "stream",
     "text": [
      "['No' 'Yes' 'No' 'No' 'Yes' 'Yes' 'No' 'Yes' 'No' 'Yes']\n"
     ]
    }
   ],
   "source": [
    "print(y)"
   ]
  },
  {
   "cell_type": "markdown",
   "metadata": {
    "id": "nhfKXNxlSabC"
   },
   "source": [
    "## Taking care of missing data"
   ]
  },
  {
   "cell_type": "code",
   "execution_count": 5,
   "metadata": {
    "executionInfo": {
     "elapsed": 2521,
     "status": "ok",
     "timestamp": 1614162052775,
     "user": {
      "displayName": "Nándor Hegyi",
      "photoUrl": "",
      "userId": "02928400980128526015"
     },
     "user_tz": 0
    },
    "id": "ik36LS2vFmd4"
   },
   "outputs": [],
   "source": [
    "from sklearn.impute import SimpleImputer\n",
    "imputer = SimpleImputer(missing_values=np.nan, strategy ='mean')\n",
    "imputer.fit(x[:,1:3])\n",
    "(x[:,1:3]) = imputer.transform(x[:,1:3])\n"
   ]
  },
  {
   "cell_type": "code",
   "execution_count": 6,
   "metadata": {
    "colab": {
     "base_uri": "https://localhost:8080/"
    },
    "executionInfo": {
     "elapsed": 2517,
     "status": "ok",
     "timestamp": 1614162052776,
     "user": {
      "displayName": "Nándor Hegyi",
      "photoUrl": "",
      "userId": "02928400980128526015"
     },
     "user_tz": 0
    },
    "id": "snlMLjPUx-4k",
    "outputId": "d55060b2-6e07-4344-eda1-856defa07e3b"
   },
   "outputs": [
    {
     "name": "stdout",
     "output_type": "stream",
     "text": [
      "[['France' 44.0 72000.0]\n",
      " ['Spain' 27.0 48000.0]\n",
      " ['Germany' 30.0 54000.0]\n",
      " ['Spain' 38.0 61000.0]\n",
      " ['Germany' 40.0 63777.77777777778]\n",
      " ['France' 35.0 58000.0]\n",
      " ['Spain' 38.77777777777778 52000.0]\n",
      " ['France' 48.0 79000.0]\n",
      " ['Germany' 50.0 83000.0]\n",
      " ['France' 37.0 67000.0]]\n"
     ]
    }
   ],
   "source": [
    "print(x)"
   ]
  },
  {
   "cell_type": "markdown",
   "metadata": {
    "id": "CriG6VzVSjcK"
   },
   "source": [
    "## Encoding categorical data"
   ]
  },
  {
   "cell_type": "code",
   "execution_count": 6,
   "metadata": {
    "executionInfo": {
     "elapsed": 2516,
     "status": "ok",
     "timestamp": 1614162052776,
     "user": {
      "displayName": "Nándor Hegyi",
      "photoUrl": "",
      "userId": "02928400980128526015"
     },
     "user_tz": 0
    },
    "id": "j1YHAhph2F8D"
   },
   "outputs": [],
   "source": []
  },
  {
   "cell_type": "markdown",
   "metadata": {
    "id": "AhSpdQWeSsFh"
   },
   "source": [
    "### Encoding the Independent Variable"
   ]
  },
  {
   "cell_type": "code",
   "execution_count": 7,
   "metadata": {
    "executionInfo": {
     "elapsed": 2516,
     "status": "ok",
     "timestamp": 1614162052778,
     "user": {
      "displayName": "Nándor Hegyi",
      "photoUrl": "",
      "userId": "02928400980128526015"
     },
     "user_tz": 0
    },
    "id": "3_uryVmU6mYB"
   },
   "outputs": [],
   "source": [
    "from sklearn.compose import ColumnTransformer\n",
    "from sklearn.preprocessing import OneHotEncoder\n",
    "ct = ColumnTransformer(transformers=[('encoder', OneHotEncoder(), [0])], remainder= 'passthrough')\n",
    "x = np.array(ct.fit_transform(x))\n"
   ]
  },
  {
   "cell_type": "code",
   "execution_count": 8,
   "metadata": {
    "colab": {
     "base_uri": "https://localhost:8080/"
    },
    "executionInfo": {
     "elapsed": 2513,
     "status": "ok",
     "timestamp": 1614162052779,
     "user": {
      "displayName": "Nándor Hegyi",
      "photoUrl": "",
      "userId": "02928400980128526015"
     },
     "user_tz": 0
    },
    "id": "Y4B7p_PeG2cl",
    "outputId": "2f4747e5-feb3-472c-df00-f70810075ba2"
   },
   "outputs": [
    {
     "name": "stdout",
     "output_type": "stream",
     "text": [
      "[[1.0 0.0 0.0 44.0 72000.0]\n",
      " [0.0 0.0 1.0 27.0 48000.0]\n",
      " [0.0 1.0 0.0 30.0 54000.0]\n",
      " [0.0 0.0 1.0 38.0 61000.0]\n",
      " [0.0 1.0 0.0 40.0 63777.77777777778]\n",
      " [1.0 0.0 0.0 35.0 58000.0]\n",
      " [0.0 0.0 1.0 38.77777777777778 52000.0]\n",
      " [1.0 0.0 0.0 48.0 79000.0]\n",
      " [0.0 1.0 0.0 50.0 83000.0]\n",
      " [1.0 0.0 0.0 37.0 67000.0]]\n"
     ]
    }
   ],
   "source": [
    "print(x)"
   ]
  },
  {
   "cell_type": "markdown",
   "metadata": {
    "id": "DXh8oVSITIc6"
   },
   "source": [
    "### Encoding the Dependent Variable"
   ]
  },
  {
   "cell_type": "code",
   "execution_count": 9,
   "metadata": {
    "executionInfo": {
     "elapsed": 2511,
     "status": "ok",
     "timestamp": 1614162052779,
     "user": {
      "displayName": "Nándor Hegyi",
      "photoUrl": "",
      "userId": "02928400980128526015"
     },
     "user_tz": 0
    },
    "id": "RRI_9jCtHrFi"
   },
   "outputs": [],
   "source": [
    "from sklearn.preprocessing import LabelEncoder\n",
    "le = LabelEncoder()\n",
    "y= le.fit_transform(y)"
   ]
  },
  {
   "cell_type": "code",
   "execution_count": 10,
   "metadata": {
    "colab": {
     "base_uri": "https://localhost:8080/"
    },
    "executionInfo": {
     "elapsed": 2507,
     "status": "ok",
     "timestamp": 1614162052780,
     "user": {
      "displayName": "Nándor Hegyi",
      "photoUrl": "",
      "userId": "02928400980128526015"
     },
     "user_tz": 0
    },
    "id": "Qw0zwVV6IXe3",
    "outputId": "5ca3d08a-6617-497a-c3b6-b9cdf8992078"
   },
   "outputs": [
    {
     "name": "stdout",
     "output_type": "stream",
     "text": [
      "[0 1 0 0 1 1 0 1 0 1]\n"
     ]
    }
   ],
   "source": [
    "print(y)"
   ]
  },
  {
   "cell_type": "markdown",
   "metadata": {
    "id": "qb_vcgm3qZKW"
   },
   "source": [
    "## Splitting the dataset into the Training set and Test set"
   ]
  },
  {
   "cell_type": "code",
   "execution_count": 11,
   "metadata": {
    "executionInfo": {
     "elapsed": 2505,
     "status": "ok",
     "timestamp": 1614162052780,
     "user": {
      "displayName": "Nándor Hegyi",
      "photoUrl": "",
      "userId": "02928400980128526015"
     },
     "user_tz": 0
    },
    "id": "clMJH3ADNu8Y"
   },
   "outputs": [],
   "source": [
    "from sklearn.model_selection import train_test_split\n",
    "x_train, x_test, y_train, y_test = train_test_split(x, y, test_size = 0.2, random_state = 1)\n"
   ]
  },
  {
   "cell_type": "code",
   "execution_count": 12,
   "metadata": {
    "colab": {
     "base_uri": "https://localhost:8080/"
    },
    "executionInfo": {
     "elapsed": 2502,
     "status": "ok",
     "timestamp": 1614162052781,
     "user": {
      "displayName": "Nándor Hegyi",
      "photoUrl": "",
      "userId": "02928400980128526015"
     },
     "user_tz": 0
    },
    "id": "fzDziIY1P80X",
    "outputId": "dba6b8a1-d7c0-424c-f7f8-f1c86ccff740"
   },
   "outputs": [
    {
     "name": "stdout",
     "output_type": "stream",
     "text": [
      "[[0.0 0.0 1.0 38.77777777777778 52000.0]\n",
      " [0.0 1.0 0.0 40.0 63777.77777777778]\n",
      " [1.0 0.0 0.0 44.0 72000.0]\n",
      " [0.0 0.0 1.0 38.0 61000.0]\n",
      " [0.0 0.0 1.0 27.0 48000.0]\n",
      " [1.0 0.0 0.0 48.0 79000.0]\n",
      " [0.0 1.0 0.0 50.0 83000.0]\n",
      " [1.0 0.0 0.0 35.0 58000.0]]\n"
     ]
    }
   ],
   "source": [
    "print(x_train)"
   ]
  },
  {
   "cell_type": "code",
   "execution_count": 13,
   "metadata": {
    "colab": {
     "base_uri": "https://localhost:8080/"
    },
    "executionInfo": {
     "elapsed": 2499,
     "status": "ok",
     "timestamp": 1614162052782,
     "user": {
      "displayName": "Nándor Hegyi",
      "photoUrl": "",
      "userId": "02928400980128526015"
     },
     "user_tz": 0
    },
    "id": "FvFCC1lbP9Ex",
    "outputId": "e01bcb59-9bc4-4f4c-ccff-24ac7e8de53d"
   },
   "outputs": [
    {
     "name": "stdout",
     "output_type": "stream",
     "text": [
      "[[0.0 1.0 0.0 30.0 54000.0]\n",
      " [1.0 0.0 0.0 37.0 67000.0]]\n"
     ]
    }
   ],
   "source": [
    "print(x_test)"
   ]
  },
  {
   "cell_type": "code",
   "execution_count": 14,
   "metadata": {
    "colab": {
     "base_uri": "https://localhost:8080/"
    },
    "executionInfo": {
     "elapsed": 2494,
     "status": "ok",
     "timestamp": 1614162052782,
     "user": {
      "displayName": "Nándor Hegyi",
      "photoUrl": "",
      "userId": "02928400980128526015"
     },
     "user_tz": 0
    },
    "id": "ck1RehV2P9TL",
    "outputId": "db920786-7fc4-49ae-f9a4-3152280e3792"
   },
   "outputs": [
    {
     "name": "stdout",
     "output_type": "stream",
     "text": [
      "[0 1 0 0 1 1 0 1]\n"
     ]
    }
   ],
   "source": [
    "print(y_train)"
   ]
  },
  {
   "cell_type": "code",
   "execution_count": 15,
   "metadata": {
    "colab": {
     "base_uri": "https://localhost:8080/"
    },
    "executionInfo": {
     "elapsed": 2492,
     "status": "ok",
     "timestamp": 1614162052783,
     "user": {
      "displayName": "Nándor Hegyi",
      "photoUrl": "",
      "userId": "02928400980128526015"
     },
     "user_tz": 0
    },
    "id": "fQHqPPUmP9gA",
    "outputId": "ede4684a-1be6-4aeb-b51b-87e145f4b258"
   },
   "outputs": [
    {
     "name": "stdout",
     "output_type": "stream",
     "text": [
      "[0 1]\n"
     ]
    }
   ],
   "source": [
    "print(y_test)"
   ]
  },
  {
   "cell_type": "markdown",
   "metadata": {
    "id": "TpGqbS4TqkIR"
   },
   "source": [
    "## Feature Scaling"
   ]
  },
  {
   "cell_type": "code",
   "execution_count": 16,
   "metadata": {
    "executionInfo": {
     "elapsed": 2490,
     "status": "ok",
     "timestamp": 1614162052783,
     "user": {
      "displayName": "Nándor Hegyi",
      "photoUrl": "",
      "userId": "02928400980128526015"
     },
     "user_tz": 0
    },
    "id": "vN0vnB4vXWNv"
   },
   "outputs": [],
   "source": [
    "from sklearn.preprocessing import StandardScaler\n",
    "sc = StandardScaler()\n",
    "x_train[:,3:] = sc.fit_transform(x_train[:,3:])\n",
    "x_test[:,3:] = sc.transform(x_test[:,3:])"
   ]
  },
  {
   "cell_type": "code",
   "execution_count": 17,
   "metadata": {
    "colab": {
     "base_uri": "https://localhost:8080/"
    },
    "executionInfo": {
     "elapsed": 2486,
     "status": "ok",
     "timestamp": 1614162052783,
     "user": {
      "displayName": "Nándor Hegyi",
      "photoUrl": "",
      "userId": "02928400980128526015"
     },
     "user_tz": 0
    },
    "id": "5iKXbJ73bg97",
    "outputId": "5dcf3203-f773-424c-b683-5a62b2f5dd3f"
   },
   "outputs": [
    {
     "name": "stdout",
     "output_type": "stream",
     "text": [
      "[[0.0 0.0 1.0 -0.19159184384578545 -1.0781259408412425]\n",
      " [0.0 1.0 0.0 -0.014117293757057777 -0.07013167641635372]\n",
      " [1.0 0.0 0.0 0.566708506533324 0.633562432710455]\n",
      " [0.0 0.0 1.0 -0.30453019390224867 -0.30786617274297867]\n",
      " [0.0 0.0 1.0 -1.9018011447007988 -1.420463615551582]\n",
      " [1.0 0.0 0.0 1.1475343068237058 1.232653363453549]\n",
      " [0.0 1.0 0.0 1.4379472069688968 1.5749910381638885]\n",
      " [1.0 0.0 0.0 -0.7401495441200351 -0.5646194287757332]]\n"
     ]
    }
   ],
   "source": [
    "print(x_train)"
   ]
  },
  {
   "cell_type": "code",
   "execution_count": 18,
   "metadata": {
    "colab": {
     "base_uri": "https://localhost:8080/"
    },
    "executionInfo": {
     "elapsed": 2482,
     "status": "ok",
     "timestamp": 1614162052783,
     "user": {
      "displayName": "Nándor Hegyi",
      "photoUrl": "",
      "userId": "02928400980128526015"
     },
     "user_tz": 0
    },
    "id": "29IIKLd8bhKM",
    "outputId": "6743455b-68ed-4efe-eb11-efaedf3d6503"
   },
   "outputs": [
    {
     "name": "stdout",
     "output_type": "stream",
     "text": [
      "[[0.0 1.0 0.0 -1.4661817944830124 -0.9069571034860727]\n",
      " [1.0 0.0 0.0 -0.44973664397484414 0.2056403393225306]]\n"
     ]
    }
   ],
   "source": [
    "print(x_test)"
   ]
  }
 ],
 "metadata": {
  "colab": {
   "collapsed_sections": [],
   "name": "Copy of data_preprocessing_tools.ipynb",
   "provenance": [
    {
     "file_id": "1-oRijAoUwpp2Qlz-Kl3k6hNlodWQyf87",
     "timestamp": 1602488339050
    }
   ],
   "toc_visible": true
  },
  "kernelspec": {
   "display_name": "Python 3",
   "language": "python",
   "name": "python3"
  },
  "language_info": {
   "codemirror_mode": {
    "name": "ipython",
    "version": 3
   },
   "file_extension": ".py",
   "mimetype": "text/x-python",
   "name": "python",
   "nbconvert_exporter": "python",
   "pygments_lexer": "ipython3",
   "version": "3.8.3"
  }
 },
 "nbformat": 4,
 "nbformat_minor": 1
}
